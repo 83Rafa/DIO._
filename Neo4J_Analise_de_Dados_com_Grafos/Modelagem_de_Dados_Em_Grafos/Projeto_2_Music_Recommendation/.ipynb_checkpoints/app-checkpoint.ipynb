{
 "cells": [
  {
   "cell_type": "code",
   "execution_count": 71,
   "id": "5250c5e7",
   "metadata": {
    "vscode": {
     "languageId": "plaintext"
    }
   },
   "outputs": [],
   "source": [
    "import pandas as pd\n",
    "import random\n",
    "from datetime import datetime, timedelta"
   ]
  },
  {
   "cell_type": "code",
   "execution_count": 72,
   "id": "1ff0b6de",
   "metadata": {
    "vscode": {
     "languageId": "plaintext"
    }
   },
   "outputs": [],
   "source": [
    "df = pd.read_csv(\"Docs/Lastfm.csv\", sep=';')"
   ]
  },
  {
   "cell_type": "code",
   "execution_count": 73,
   "id": "ee458a80-113e-422b-8209-5d3fb0b33fba",
   "metadata": {},
   "outputs": [],
   "source": [
    "df = df.dropna(subset=[\"track_id\", \"song_name\", \"artist\", \"genre\", \"year\"])\n",
    "df = df.drop_duplicates(subset=[\"track_id\"])"
   ]
  },
  {
   "cell_type": "code",
   "execution_count": 74,
   "id": "3d140de2-90ce-43b0-887d-9506cbc35f91",
   "metadata": {},
   "outputs": [],
   "source": [
    "df_300 = df.sample(n=300, random_state=42).reset_index(drop=True)"
   ]
  },
  {
   "cell_type": "code",
   "execution_count": 75,
   "id": "2046d102-bd5a-4965-82ec-180a4cb16f00",
   "metadata": {},
   "outputs": [],
   "source": [
    "# Para as 300 músicas únicas\n",
    "df_300[\"times_played\"] = [1 for _ in range(len(df_300))]  # ou use random.randint(1, 3)\n",
    "\n",
    "# Para as 200 músicas repetidas\n",
    "df_repeat[\"times_played\"] = [random.randint(2, 5) for _ in range(len(df_repeat))]\n",
    "\n",
    "# Concatenar tudo\n",
    "df_listened = pd.concat([df_300, df_repeat]).reset_index(drop=True)"
   ]
  },
  {
   "cell_type": "code",
   "execution_count": 76,
   "id": "40127df0-3567-4e01-a9ae-260dcb3d4489",
   "metadata": {},
   "outputs": [],
   "source": [
    "def random_date(start, end):\n",
    "    return start + timedelta(days=random.randint(0, (end - start).days))"
   ]
  },
  {
   "cell_type": "code",
   "execution_count": 77,
   "id": "d6c0cbc1-fdef-4a49-82c6-22ece9b7e8db",
   "metadata": {},
   "outputs": [],
   "source": [
    "start_date = datetime(2025, 10, 21)\n",
    "end_date = datetime(2025, 10, 28)\n",
    "\n",
    "df_listened[\"timestamp\"] = [\n",
    "    random_date(start_date, end_date).date().isoformat() for _ in range(len(df_listened))\n",
    "]"
   ]
  },
  {
   "cell_type": "code",
   "execution_count": 83,
   "id": "213e1c9f-0b0d-4ac9-b478-8896e2c6c5b6",
   "metadata": {},
   "outputs": [],
   "source": [
    "user_ids = [f\"U{str(i).zfill(4)}\" for i in range(1, 6)]  # 5 usuários\n",
    "df_listened[\"user_id\"] = [random.choice(user_ids) for _ in range(len(df_listened))]"
   ]
  },
  {
   "cell_type": "code",
   "execution_count": 78,
   "id": "4c8dfd7f-3def-4867-a831-48513797d98a",
   "metadata": {},
   "outputs": [
    {
     "data": {
      "text/html": [
       "<div>\n",
       "<style scoped>\n",
       "    .dataframe tbody tr th:only-of-type {\n",
       "        vertical-align: middle;\n",
       "    }\n",
       "\n",
       "    .dataframe tbody tr th {\n",
       "        vertical-align: top;\n",
       "    }\n",
       "\n",
       "    .dataframe thead th {\n",
       "        text-align: right;\n",
       "    }\n",
       "</style>\n",
       "<table border=\"1\" class=\"dataframe\">\n",
       "  <thead>\n",
       "    <tr style=\"text-align: right;\">\n",
       "      <th></th>\n",
       "      <th>track_id</th>\n",
       "      <th>song_name</th>\n",
       "      <th>artist</th>\n",
       "      <th>genre</th>\n",
       "      <th>year</th>\n",
       "      <th>times_played</th>\n",
       "      <th>name</th>\n",
       "      <th>timestamp</th>\n",
       "    </tr>\n",
       "  </thead>\n",
       "  <tbody>\n",
       "    <tr>\n",
       "      <th>259</th>\n",
       "      <td>TRGFBNP12903CC819E</td>\n",
       "      <td>Maybe Tomorrow is a Better Day</td>\n",
       "      <td>Poets of the Fall</td>\n",
       "      <td>rock, alternative, alternative_rock</td>\n",
       "      <td>2006.0</td>\n",
       "      <td>1</td>\n",
       "      <td>NaN</td>\n",
       "      <td>2025-10-25</td>\n",
       "    </tr>\n",
       "    <tr>\n",
       "      <th>268</th>\n",
       "      <td>TRCRHLA128F425B112</td>\n",
       "      <td>Upstairs</td>\n",
       "      <td>Psapp</td>\n",
       "      <td>electronic, alternative, indie, female_vocalis...</td>\n",
       "      <td>2006.0</td>\n",
       "      <td>1</td>\n",
       "      <td>NaN</td>\n",
       "      <td>2025-10-23</td>\n",
       "    </tr>\n",
       "    <tr>\n",
       "      <th>479</th>\n",
       "      <td>TRGTOWD128F92DEF3D</td>\n",
       "      <td>NaN</td>\n",
       "      <td>M.I.A.</td>\n",
       "      <td>funk</td>\n",
       "      <td>2016.0</td>\n",
       "      <td>2</td>\n",
       "      <td>Visa</td>\n",
       "      <td>2025-10-22</td>\n",
       "    </tr>\n",
       "    <tr>\n",
       "      <th>369</th>\n",
       "      <td>TRXGOOC128F42338C4</td>\n",
       "      <td>Alice</td>\n",
       "      <td>Tom Waits</td>\n",
       "      <td>jazz, folk, singer_songwriter, blues, mellow</td>\n",
       "      <td>2002.0</td>\n",
       "      <td>1</td>\n",
       "      <td>NaN</td>\n",
       "      <td>2025-10-27</td>\n",
       "    </tr>\n",
       "    <tr>\n",
       "      <th>184</th>\n",
       "      <td>TROBIIE12903CE1716</td>\n",
       "      <td>Something Pretty</td>\n",
       "      <td>Patrick Park</td>\n",
       "      <td>indie, folk, singer_songwriter, soundtrack, ac...</td>\n",
       "      <td>2003.0</td>\n",
       "      <td>1</td>\n",
       "      <td>NaN</td>\n",
       "      <td>2025-10-23</td>\n",
       "    </tr>\n",
       "    <tr>\n",
       "      <th>101</th>\n",
       "      <td>TRQIMHF12903CC9BE1</td>\n",
       "      <td>I Walk Alone</td>\n",
       "      <td>Tarja</td>\n",
       "      <td>metal, gothic_metal, gothic, symphonic_metal</td>\n",
       "      <td>2015.0</td>\n",
       "      <td>1</td>\n",
       "      <td>NaN</td>\n",
       "      <td>2025-10-25</td>\n",
       "    </tr>\n",
       "    <tr>\n",
       "      <th>73</th>\n",
       "      <td>TROWEIE128F934AF4F</td>\n",
       "      <td>Blood Drenched Execution</td>\n",
       "      <td>Cannibal Corpse</td>\n",
       "      <td>death_metal</td>\n",
       "      <td>1998.0</td>\n",
       "      <td>1</td>\n",
       "      <td>NaN</td>\n",
       "      <td>2025-10-21</td>\n",
       "    </tr>\n",
       "    <tr>\n",
       "      <th>392</th>\n",
       "      <td>TRLUWED128F4290B9C</td>\n",
       "      <td>Wouldn't It Be Good</td>\n",
       "      <td>Nik Kershaw</td>\n",
       "      <td>pop, 80s, new_wave, synthpop</td>\n",
       "      <td>1984.0</td>\n",
       "      <td>1</td>\n",
       "      <td>NaN</td>\n",
       "      <td>2025-10-22</td>\n",
       "    </tr>\n",
       "    <tr>\n",
       "      <th>306</th>\n",
       "      <td>TRFQYGZ128F146990B</td>\n",
       "      <td>Absurd</td>\n",
       "      <td>Fluke</td>\n",
       "      <td>electronic, trance, techno, electro</td>\n",
       "      <td>2001.0</td>\n",
       "      <td>1</td>\n",
       "      <td>NaN</td>\n",
       "      <td>2025-10-22</td>\n",
       "    </tr>\n",
       "    <tr>\n",
       "      <th>591</th>\n",
       "      <td>TRUGUEN128F426D379</td>\n",
       "      <td>NaN</td>\n",
       "      <td>Bathory</td>\n",
       "      <td>black_metal</td>\n",
       "      <td>2003.0</td>\n",
       "      <td>2</td>\n",
       "      <td>Fanfare</td>\n",
       "      <td>2025-10-24</td>\n",
       "    </tr>\n",
       "  </tbody>\n",
       "</table>\n",
       "</div>"
      ],
      "text/plain": [
       "               track_id                       song_name             artist  \\\n",
       "259  TRGFBNP12903CC819E  Maybe Tomorrow is a Better Day  Poets of the Fall   \n",
       "268  TRCRHLA128F425B112                        Upstairs              Psapp   \n",
       "479  TRGTOWD128F92DEF3D                             NaN             M.I.A.   \n",
       "369  TRXGOOC128F42338C4                           Alice          Tom Waits   \n",
       "184  TROBIIE12903CE1716                Something Pretty       Patrick Park   \n",
       "101  TRQIMHF12903CC9BE1                    I Walk Alone              Tarja   \n",
       "73   TROWEIE128F934AF4F        Blood Drenched Execution    Cannibal Corpse   \n",
       "392  TRLUWED128F4290B9C             Wouldn't It Be Good        Nik Kershaw   \n",
       "306  TRFQYGZ128F146990B                          Absurd              Fluke   \n",
       "591  TRUGUEN128F426D379                             NaN            Bathory   \n",
       "\n",
       "                                                 genre    year  times_played  \\\n",
       "259                rock, alternative, alternative_rock  2006.0             1   \n",
       "268  electronic, alternative, indie, female_vocalis...  2006.0             1   \n",
       "479                                               funk  2016.0             2   \n",
       "369       jazz, folk, singer_songwriter, blues, mellow  2002.0             1   \n",
       "184  indie, folk, singer_songwriter, soundtrack, ac...  2003.0             1   \n",
       "101       metal, gothic_metal, gothic, symphonic_metal  2015.0             1   \n",
       "73                                         death_metal  1998.0             1   \n",
       "392                       pop, 80s, new_wave, synthpop  1984.0             1   \n",
       "306                electronic, trance, techno, electro  2001.0             1   \n",
       "591                                        black_metal  2003.0             2   \n",
       "\n",
       "        name   timestamp  \n",
       "259      NaN  2025-10-25  \n",
       "268      NaN  2025-10-23  \n",
       "479     Visa  2025-10-22  \n",
       "369      NaN  2025-10-27  \n",
       "184      NaN  2025-10-23  \n",
       "101      NaN  2025-10-25  \n",
       "73       NaN  2025-10-21  \n",
       "392      NaN  2025-10-22  \n",
       "306      NaN  2025-10-22  \n",
       "591  Fanfare  2025-10-24  "
      ]
     },
     "execution_count": 78,
     "metadata": {},
     "output_type": "execute_result"
    }
   ],
   "source": [
    "df_listened.sample(10)"
   ]
  },
  {
   "cell_type": "code",
   "execution_count": 79,
   "id": "5f9e58d6-f857-460a-9193-06b606bb33f2",
   "metadata": {},
   "outputs": [],
   "source": [
    "df_listened.to_csv(\"Docs/user_listened_data.csv\", index=False)"
   ]
  }
 ],
 "metadata": {
  "kernelspec": {
   "display_name": "Python [conda env:base] *",
   "language": "python",
   "name": "conda-base-py"
  },
  "language_info": {
   "codemirror_mode": {
    "name": "ipython",
    "version": 3
   },
   "file_extension": ".py",
   "mimetype": "text/x-python",
   "name": "python",
   "nbconvert_exporter": "python",
   "pygments_lexer": "ipython3",
   "version": "3.13.5"
  }
 },
 "nbformat": 4,
 "nbformat_minor": 5
}
