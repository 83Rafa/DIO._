{
 "cells": [
  {
   "cell_type": "code",
   "execution_count": 1,
   "id": "5250c5e7",
   "metadata": {
    "vscode": {
     "languageId": "plaintext"
    }
   },
   "outputs": [],
   "source": [
    "import pandas as pd\n",
    "import random\n",
    "from datetime import datetime, timedelta"
   ]
  },
  {
   "cell_type": "code",
   "execution_count": 25,
   "id": "1ff0b6de",
   "metadata": {
    "vscode": {
     "languageId": "plaintext"
    }
   },
   "outputs": [],
   "source": [
    "df = pd.read_csv(\"Docs/Lastfm.csv\", sep=';')"
   ]
  },
  {
   "cell_type": "code",
   "execution_count": 26,
   "id": "ee458a80-113e-422b-8209-5d3fb0b33fba",
   "metadata": {},
   "outputs": [],
   "source": [
    "df = df.dropna(subset=[\"track_id\", \"song_name\", \"artist\", \"genre\", \"year\"])\n",
    "df = df.drop_duplicates(subset=[\"track_id\"])"
   ]
  },
  {
   "cell_type": "code",
   "execution_count": 27,
   "id": "3d140de2-90ce-43b0-887d-9506cbc35f91",
   "metadata": {},
   "outputs": [],
   "source": [
    "df_300 = df.sample(n=300, random_state=42).reset_index(drop=True)"
   ]
  },
  {
   "cell_type": "code",
   "execution_count": 28,
   "id": "2046d102-bd5a-4965-82ec-180a4cb16f00",
   "metadata": {},
   "outputs": [],
   "source": [
    "# Selecionar 300 músicas únicas com times_played = 1\n",
    "df_300[\"times_played\"] = [1 for _ in range(len(df_300))]\n",
    "\n",
    "# Selecionar 200 músicas diferentes para repetir com times_played entre 2 e 5\n",
    "df_remaining = df.drop(df_300.index).reset_index(drop=True)\n",
    "df_repeat = df_remaining.sample(n=200, random_state=1).copy()\n",
    "df_repeat[\"times_played\"] = [random.randint(2, 5) for _ in range(len(df_repeat))]\n",
    "\n",
    "# Concatenar tudo\n",
    "df_listened = pd.concat([df_300, df_repeat]).reset_index(drop=True)\n"
   ]
  },
  {
   "cell_type": "code",
   "execution_count": 29,
   "id": "40127df0-3567-4e01-a9ae-260dcb3d4489",
   "metadata": {},
   "outputs": [],
   "source": [
    "def random_date(start, end):\n",
    "    return start + timedelta(days=random.randint(0, (end - start).days))"
   ]
  },
  {
   "cell_type": "code",
   "execution_count": 30,
   "id": "d6c0cbc1-fdef-4a49-82c6-22ece9b7e8db",
   "metadata": {},
   "outputs": [],
   "source": [
    "start_date = datetime(2025, 10, 21)\n",
    "end_date = datetime(2025, 10, 28)\n",
    "\n",
    "df_listened[\"timestamp\"] = [\n",
    "    random_date(start_date, end_date).date().isoformat() for _ in range(len(df_listened))\n",
    "]"
   ]
  },
  {
   "cell_type": "code",
   "execution_count": 31,
   "id": "213e1c9f-0b0d-4ac9-b478-8896e2c6c5b6",
   "metadata": {},
   "outputs": [],
   "source": [
    "user_ids = [f\"U{str(i).zfill(4)}\" for i in range(1, 6)]  # 5 usuários\n",
    "df_listened[\"user_id\"] = [random.choice(user_ids) for _ in range(len(df_listened))]"
   ]
  },
  {
   "cell_type": "code",
   "execution_count": 32,
   "id": "b1937e54-a90c-4bfa-a7ed-39aece4e84ec",
   "metadata": {},
   "outputs": [
    {
     "name": "stdout",
     "output_type": "stream",
     "text": [
      "<class 'pandas.core.frame.DataFrame'>\n",
      "RangeIndex: 500 entries, 0 to 499\n",
      "Data columns (total 8 columns):\n",
      " #   Column        Non-Null Count  Dtype  \n",
      "---  ------        --------------  -----  \n",
      " 0   track_id      500 non-null    object \n",
      " 1   song_name     500 non-null    object \n",
      " 2   artist        500 non-null    object \n",
      " 3   genre         500 non-null    object \n",
      " 4   year          500 non-null    float64\n",
      " 5   times_played  500 non-null    int64  \n",
      " 6   timestamp     500 non-null    object \n",
      " 7   user_id       500 non-null    object \n",
      "dtypes: float64(1), int64(1), object(6)\n",
      "memory usage: 31.4+ KB\n"
     ]
    }
   ],
   "source": [
    "df_listened.info()"
   ]
  },
  {
   "cell_type": "code",
   "execution_count": 35,
   "id": "124bdcb9-bf62-45bc-b0ae-e07724208d04",
   "metadata": {},
   "outputs": [
    {
     "name": "stderr",
     "output_type": "stream",
     "text": [
      "C:\\Users\\rafao\\AppData\\Local\\Temp\\ipykernel_19168\\1210576074.py:5: UserWarning: Parsing dates in %Y-%m-%d format when dayfirst=True was specified. Pass `dayfirst=False` or specify a format to silence this warning.\n",
      "  df_listened[\"timestamp\"] = pd.to_datetime(df_listened[\"timestamp\"], dayfirst=True).dt.date.astype(str)\n"
     ]
    }
   ],
   "source": [
    "# 1. Converter 'times_played' para número\n",
    "df_listened[\"times_played\"] = pd.to_numeric(df_listened[\"times_played\"], errors=\"coerce\")\n",
    "\n",
    "# 2. Converter 'timestamp' para data no formato ISO\n",
    "df_listened[\"timestamp\"] = pd.to_datetime(df_listened[\"timestamp\"], dayfirst=True).dt.date.astype(str)\n",
    "\n",
    "# 3. Converter todas as outras colunas para string\n",
    "for col in df_listened.columns:\n",
    "    if col not in [\"times_played  \", \"timestamp\"]:\n",
    "        df_listened[col] = df_listened[col].astype(str)"
   ]
  },
  {
   "cell_type": "code",
   "execution_count": 36,
   "id": "292b75ba-9634-4069-943f-93874271a181",
   "metadata": {},
   "outputs": [
    {
     "data": {
      "text/html": [
       "<div>\n",
       "<style scoped>\n",
       "    .dataframe tbody tr th:only-of-type {\n",
       "        vertical-align: middle;\n",
       "    }\n",
       "\n",
       "    .dataframe tbody tr th {\n",
       "        vertical-align: top;\n",
       "    }\n",
       "\n",
       "    .dataframe thead th {\n",
       "        text-align: right;\n",
       "    }\n",
       "</style>\n",
       "<table border=\"1\" class=\"dataframe\">\n",
       "  <thead>\n",
       "    <tr style=\"text-align: right;\">\n",
       "      <th></th>\n",
       "      <th>track_id</th>\n",
       "      <th>song_name</th>\n",
       "      <th>artist</th>\n",
       "      <th>genre</th>\n",
       "      <th>year</th>\n",
       "      <th>times_played</th>\n",
       "      <th>timestamp</th>\n",
       "      <th>user_id</th>\n",
       "    </tr>\n",
       "  </thead>\n",
       "  <tbody>\n",
       "    <tr>\n",
       "      <th>162</th>\n",
       "      <td>TRRJELJ128F429DB3A</td>\n",
       "      <td>Third Stream</td>\n",
       "      <td>4hero</td>\n",
       "      <td>electronic | jazz | drum_and_bass</td>\n",
       "      <td>1998.0</td>\n",
       "      <td>1</td>\n",
       "      <td>2025-10-26</td>\n",
       "      <td>U0005</td>\n",
       "    </tr>\n",
       "    <tr>\n",
       "      <th>245</th>\n",
       "      <td>TRGLFSX128F422C071</td>\n",
       "      <td>Vicarious</td>\n",
       "      <td>Tool</td>\n",
       "      <td>rock | alternative | metal | alternative_rock ...</td>\n",
       "      <td>2006.0</td>\n",
       "      <td>1</td>\n",
       "      <td>2025-10-24</td>\n",
       "      <td>U0004</td>\n",
       "    </tr>\n",
       "    <tr>\n",
       "      <th>60</th>\n",
       "      <td>TRFEPFQ128EF356BA0</td>\n",
       "      <td>Fly Me To The Moon (In Other Words)</td>\n",
       "      <td>Bobby Womack</td>\n",
       "      <td>soul | cover</td>\n",
       "      <td>2005.0</td>\n",
       "      <td>1</td>\n",
       "      <td>2025-10-21</td>\n",
       "      <td>U0004</td>\n",
       "    </tr>\n",
       "    <tr>\n",
       "      <th>223</th>\n",
       "      <td>TRAPHGM128F4278969</td>\n",
       "      <td>Ode To Boy</td>\n",
       "      <td>Yazoo</td>\n",
       "      <td>electronic | 80s | new_wave | synthpop</td>\n",
       "      <td>1999.0</td>\n",
       "      <td>1</td>\n",
       "      <td>2025-10-22</td>\n",
       "      <td>U0001</td>\n",
       "    </tr>\n",
       "    <tr>\n",
       "      <th>298</th>\n",
       "      <td>TRTUMEF12903CF59C6</td>\n",
       "      <td>Inner Incineration</td>\n",
       "      <td>Napalm Death</td>\n",
       "      <td>death_metal | grindcore</td>\n",
       "      <td>1990.0</td>\n",
       "      <td>1</td>\n",
       "      <td>2025-10-23</td>\n",
       "      <td>U0003</td>\n",
       "    </tr>\n",
       "  </tbody>\n",
       "</table>\n",
       "</div>"
      ],
      "text/plain": [
       "               track_id                            song_name        artist  \\\n",
       "162  TRRJELJ128F429DB3A                         Third Stream         4hero   \n",
       "245  TRGLFSX128F422C071                            Vicarious          Tool   \n",
       "60   TRFEPFQ128EF356BA0  Fly Me To The Moon (In Other Words)  Bobby Womack   \n",
       "223  TRAPHGM128F4278969                           Ode To Boy         Yazoo   \n",
       "298  TRTUMEF12903CF59C6                   Inner Incineration  Napalm Death   \n",
       "\n",
       "                                                 genre    year times_played  \\\n",
       "162                  electronic | jazz | drum_and_bass  1998.0            1   \n",
       "245  rock | alternative | metal | alternative_rock ...  2006.0            1   \n",
       "60                                        soul | cover  2005.0            1   \n",
       "223             electronic | 80s | new_wave | synthpop  1999.0            1   \n",
       "298                            death_metal | grindcore  1990.0            1   \n",
       "\n",
       "      timestamp user_id  \n",
       "162  2025-10-26   U0005  \n",
       "245  2025-10-24   U0004  \n",
       "60   2025-10-21   U0004  \n",
       "223  2025-10-22   U0001  \n",
       "298  2025-10-23   U0003  "
      ]
     },
     "execution_count": 36,
     "metadata": {},
     "output_type": "execute_result"
    }
   ],
   "source": [
    "df_listened[\"genre\"] = df_listened[\"genre\"].str.replace(\",\", \" |\")\n",
    "df_listened.sample(5)"
   ]
  },
  {
   "cell_type": "code",
   "execution_count": 37,
   "id": "5f9e58d6-f857-460a-9193-06b606bb33f2",
   "metadata": {},
   "outputs": [],
   "source": [
    "df_listened.to_csv(\"Docs/user_listened_data.csv\", index=False)"
   ]
  }
 ],
 "metadata": {
  "kernelspec": {
   "display_name": "Python [conda env:base] *",
   "language": "python",
   "name": "conda-base-py"
  },
  "language_info": {
   "codemirror_mode": {
    "name": "ipython",
    "version": 3
   },
   "file_extension": ".py",
   "mimetype": "text/x-python",
   "name": "python",
   "nbconvert_exporter": "python",
   "pygments_lexer": "ipython3",
   "version": "3.13.5"
  }
 },
 "nbformat": 4,
 "nbformat_minor": 5
}
